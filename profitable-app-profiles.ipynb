{
 "cells": [
  {
   "cell_type": "markdown",
   "metadata": {},
   "source": [
    "# Profitable App Profiles for the App Store and Google Play Markets"
   ]
  },
  {
   "cell_type": "markdown",
   "metadata": {},
   "source": [
    "In this project, I am working as DATA ANALYST for a company that builds Android and iOS mobile apps. My job is to enable the company to make data-driven decisions with respect to the kind of apps they build."
   ]
  },
  {
   "cell_type": "markdown",
   "metadata": {},
   "source": [
    "At this company, they only build free apps to download and install, and the main source of revenue consists of in-app ads. This ads revenue is mostly influenced by the number of users that use the app. My goal for this project is to analyze data to help developers understand what kinds of apps are likely to attract more users."
   ]
  },
  {
   "cell_type": "markdown",
   "metadata": {},
   "source": [
    "## Opening and analyzing data"
   ]
  },
  {
   "cell_type": "markdown",
   "metadata": {},
   "source": [
    "Collecting data of all the store apps requires a significant amount of time and money, so I'll try to analyze a sample of data instead. To avoid spending resources (time and/or money), I will use two data sets that seem suitable for our purpose:\n",
    "\n",
    "* A [Google Play](https://www.kaggle.com/lava18/google-play-store-apps) and an [App Store](https://www.kaggle.com/ramamet4/app-store-apple-data-set-10k-apps) Kaggle dataset suitable for this project with 17k apps to analyze."
   ]
  },
  {
   "cell_type": "markdown",
   "metadata": {},
   "source": [
    "### Opening datasets"
   ]
  },
  {
   "cell_type": "markdown",
   "metadata": {},
   "source": [
    "Let's start by opening the two data sets and then continue with exploring the data."
   ]
  },
  {
   "cell_type": "code",
   "execution_count": 1,
   "metadata": {},
   "outputs": [],
   "source": [
    "from csv import reader\n",
    "\n",
    "# returns the csv data as a list\n",
    "def open_dataset(path):\n",
    "    opened_file = open(path)\n",
    "    readed_file = reader(opened_file)\n",
    "    data_list = list(readed_file)\n",
    "    return data_list"
   ]
  },
  {
   "cell_type": "code",
   "execution_count": 6,
   "metadata": {},
   "outputs": [],
   "source": [
    "# android apps\n",
    "android_list = open_dataset('googleplaystore.csv')\n",
    "android_apps_header = android_list[0]\n",
    "android_apps = android_list[1:]\n",
    "\n",
    "# ios apps\n",
    "ios_list = open_dataset('applestore.csv')\n",
    "ios_apps_header = ios_list[0]\n",
    "ios_apps = ios_file[1:]"
   ]
  },
  {
   "cell_type": "markdown",
   "metadata": {},
   "source": [
    "### Exploring data"
   ]
  },
  {
   "cell_type": "markdown",
   "metadata": {},
   "source": [
    "To make it easier to explore the two data sets, I'll write a function named __explore_dataset()__ that I can use repeatedly to explore rows in a more readable way"
   ]
  },
  {
   "cell_type": "code",
   "execution_count": 24,
   "metadata": {},
   "outputs": [],
   "source": [
    "def explore_dataset(dataset, start, end=0):\n",
    "    if end == 0:\n",
    "        end = start + 1\n",
    "        \n",
    "    dataset_slice = dataset[start:end]\n",
    "\n",
    "    for row in dataset_slice:\n",
    "        print(row)"
   ]
  },
  {
   "cell_type": "markdown",
   "metadata": {},
   "source": [
    "Also, I will create another function named __dataset_size()__ that shows me the rows and columns length"
   ]
  },
  {
   "cell_type": "code",
   "execution_count": 25,
   "metadata": {},
   "outputs": [],
   "source": [
    "def dataset_size(dataset):\n",
    "    dataset_rows = len(dataset)\n",
    "    dataset_columns = len(dataset[0])\n",
    "    print('number of rows:', dataset_rows)\n",
    "    print('number of columns:', dataset_columns)"
   ]
  },
  {
   "cell_type": "code",
   "execution_count": 35,
   "metadata": {},
   "outputs": [
    {
     "name": "stdout",
     "output_type": "stream",
     "text": [
      "Android Dataset\n",
      "================\n",
      "\n",
      "\n",
      "['Photo Editor & Candy Camera & Grid & ScrapBook', 'ART_AND_DESIGN', '4.1', '159', '19M', '10,000+', 'Free', '0', 'Everyone', 'Art & Design', 'January 7, 2018', '1.0.0', '4.0.3 and up']\n",
      "\n",
      "\n",
      "['Coloring book moana', 'ART_AND_DESIGN', '3.9', '967', '14M', '500,000+', 'Free', '0', 'Everyone', 'Art & Design;Pretend Play', 'January 15, 2018', '2.0.0', '4.0.3 and up']\n",
      "\n",
      "\n",
      "number of rows: 10841\n",
      "number of columns: 13\n"
     ]
    }
   ],
   "source": [
    "print('Android Dataset')\n",
    "print('================')\n",
    "print('\\n')\n",
    "\n",
    "explore_dataset(android_apps, 0, 2)\n",
    "print('\\n')\n",
    "dataset_size(android_apps)\n",
    "print('\\n')"
   ]
  },
  {
   "cell_type": "code",
   "execution_count": 36,
   "metadata": {},
   "outputs": [
    {
     "name": "stdout",
     "output_type": "stream",
     "text": [
      "IOS Dataset\n",
      "===========\n",
      "\n",
      "\n",
      "['284882215', 'Facebook', '389879808', 'USD', '0.0', '2974676', '212', '3.5', '3.5', '95.0', '4+', 'Social Networking', '37', '1', '29', '1']\n",
      "\n",
      "\n",
      "['389801252', 'Instagram', '113954816', 'USD', '0.0', '2161558', '1289', '4.5', '4.0', '10.23', '12+', 'Photo & Video', '37', '0', '29', '1']\n",
      "\n",
      "\n",
      "number of rows: 7197\n",
      "number of columns: 16\n"
     ]
    }
   ],
   "source": [
    "print('IOS Dataset')\n",
    "print('===========')\n",
    "print('\\n')\n",
    "\n",
    "explore_dataset(ios_apps, 0, 2)\n",
    "print('\\n')\n",
    "dataset_size(ios_apps)\n",
    "print('\\n')"
   ]
  },
  {
   "cell_type": "markdown",
   "metadata": {},
   "source": [
    "### Results"
   ]
  },
  {
   "cell_type": "markdown",
   "metadata": {},
   "source": [
    "The data shows 10841 Android apps and 7197 iOS apps inside datasets"
   ]
  },
  {
   "cell_type": "markdown",
   "metadata": {},
   "source": [
    "## Cleaning Data"
   ]
  },
  {
   "cell_type": "markdown",
   "metadata": {},
   "source": [
    "### Removing rows with errors or missing data"
   ]
  },
  {
   "cell_type": "markdown",
   "metadata": {},
   "source": [
    "It is important to read [Android Dataset Documentation](https://www.kaggle.com/lava18/google-play-store-apps) and [App Store Documentation](https://www.kaggle.com/ramamet4/app-store-apple-data-set-10k-apps) to check information about the columns and an explanation of how data is collected and saved.  "
   ]
  },
  {
   "cell_type": "markdown",
   "metadata": {},
   "source": [
    "The Google Play dataset has a dedicated discussion section, and we can see that [one](https://www.kaggle.com/lava18/google-play-store-apps/discussion/66015) of the discussions outlines an error for row 10472. Print this row and compare it against the header and another row that is correct."
   ]
  },
  {
   "cell_type": "code",
   "execution_count": 43,
   "metadata": {},
   "outputs": [
    {
     "name": "stdout",
     "output_type": "stream",
     "text": [
      "Wrong row!\n",
      "==========\n",
      "['Life Made WI-Fi Touchscreen Photo Frame', '1.9', '19', '3.0M', '1,000+', 'Free', '0', 'Everyone', '', 'February 11, 2018', '1.0.19', '4.0 and up']\n",
      "\n",
      "\n",
      "Header of the Android dataset\n",
      "=====================\n",
      "['App', 'Category', 'Rating', 'Reviews', 'Size', 'Installs', 'Type', 'Price', 'Content Rating', 'Genres', 'Last Updated', 'Current Ver', 'Android Ver']\n",
      "\n",
      "\n",
      "Correct row\n",
      "============\n",
      "['Zumper - Apartment Rental Finder', 'HOUSE_AND_HOME', '4.4', '11200', '25M', '1,000,000+', 'Free', '0', 'Everyone', 'House & Home', 'July 16, 2018', '4.5.15', '5.0 and up']\n",
      "\n",
      "\n"
     ]
    }
   ],
   "source": [
    "print('Wrong row!')\n",
    "print('==========')\n",
    "explore_dataset(android_apps, 10472)\n",
    "\n",
    "print('Header of the Android dataset')\n",
    "print('=====================')\n",
    "print(android_apps_header)\n",
    "print('\\n')\n",
    "\n",
    "print('Correct row')\n",
    "print('============')\n",
    "explore_dataset(android_apps, 1500)"
   ]
  },
  {
   "cell_type": "markdown",
   "metadata": {},
   "source": [
    "The row **10472** corresponds to the app *Life Made WI-Fi Touchscreen Photo Frame*, and I can see that the rating is __19__. This is clearly off because the maximum rating for a Google Play app is 5. As a consequence, I'll delete this row."
   ]
  },
  {
   "cell_type": "code",
   "execution_count": 45,
   "metadata": {},
   "outputs": [
    {
     "name": "stdout",
     "output_type": "stream",
     "text": [
      "number of rows: 10841\n",
      "number of columns: 13\n",
      "None\n",
      "number of rows: 10840\n",
      "number of columns: 13\n",
      "None\n"
     ]
    }
   ],
   "source": [
    "dataset_size(android_apps)\n",
    "del android_apps[10472]  # don't run this more than once to del the row\n",
    "dataset_size(android_apps)"
   ]
  },
  {
   "cell_type": "markdown",
   "metadata": {},
   "source": [
    "### Removing duplicated rows"
   ]
  },
  {
   "cell_type": "markdown",
   "metadata": {},
   "source": [
    "... to be continued"
   ]
  },
  {
   "cell_type": "code",
   "execution_count": null,
   "metadata": {},
   "outputs": [],
   "source": []
  }
 ],
 "metadata": {
  "kernelspec": {
   "display_name": "Python 3",
   "language": "python",
   "name": "python3"
  },
  "language_info": {
   "codemirror_mode": {
    "name": "ipython",
    "version": 3
   },
   "file_extension": ".py",
   "mimetype": "text/x-python",
   "name": "python",
   "nbconvert_exporter": "python",
   "pygments_lexer": "ipython3",
   "version": "3.8.1"
  }
 },
 "nbformat": 4,
 "nbformat_minor": 4
}
