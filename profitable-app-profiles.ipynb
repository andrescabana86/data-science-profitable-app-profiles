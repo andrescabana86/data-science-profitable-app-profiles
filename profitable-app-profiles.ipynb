{
 "cells": [
  {
   "cell_type": "markdown",
   "metadata": {},
   "source": [
    "# Profitable App Profiles for the App Store and Google Play Markets"
   ]
  },
  {
   "cell_type": "markdown",
   "metadata": {},
   "source": [
    "In this project, I am working as **Data Analyst** for a company that builds Android and iOS mobile apps. My job is to enable the company to make data-driven decisions with respect to the kind of apps they build."
   ]
  },
  {
   "cell_type": "markdown",
   "metadata": {},
   "source": [
    "At this company, they only build free apps to download and install, and the main source of revenue consists of in-app ads. This ads revenue is mostly influenced by the number of users that use the app. My goal for this project is to analyze data to help developers understand what kinds of apps are likely to attract more users."
   ]
  },
  {
   "cell_type": "markdown",
   "metadata": {},
   "source": [
    "## Opening and analyzing data"
   ]
  },
  {
   "cell_type": "markdown",
   "metadata": {},
   "source": [
    "Collecting data of all the store apps requires a significant amount of time and money, so I'll try to analyze a sample of data instead. To avoid spending resources (time and/or money), I will use two data sets that seem suitable for our purpose:\n",
    "\n",
    "* A [Google Play](https://www.kaggle.com/lava18/google-play-store-apps) and an [App Store](https://www.kaggle.com/ramamet4/app-store-apple-data-set-10k-apps) Kaggle dataset suitable for this project with 17k apps to analyze."
   ]
  },
  {
   "cell_type": "markdown",
   "metadata": {},
   "source": [
    "### Opening datasets"
   ]
  },
  {
   "cell_type": "markdown",
   "metadata": {},
   "source": [
    "I will start by opening the two data sets and then continue with exploring the data."
   ]
  },
  {
   "cell_type": "code",
   "execution_count": 1,
   "metadata": {},
   "outputs": [],
   "source": [
    "from csv import reader\n",
    "\n",
    "# returns the csv data as a list\n",
    "def open_dataset(path):\n",
    "    opened_file = open(path)\n",
    "    readed_file = reader(opened_file)\n",
    "    data_list = list(readed_file)\n",
    "    return data_list"
   ]
  },
  {
   "cell_type": "code",
   "execution_count": 2,
   "metadata": {},
   "outputs": [],
   "source": [
    "# android apps\n",
    "android_list = open_dataset('googleplaystore.csv')\n",
    "android_apps_header = android_list[0]\n",
    "android_apps = android_list[1:]\n",
    "\n",
    "# ios apps\n",
    "ios_list = open_dataset('applestore.csv')\n",
    "ios_apps_header = ios_list[0]\n",
    "ios_apps = ios_list[1:]"
   ]
  },
  {
   "cell_type": "markdown",
   "metadata": {},
   "source": [
    "### Exploring data"
   ]
  },
  {
   "cell_type": "markdown",
   "metadata": {},
   "source": [
    "To make it easier to explore the two data sets, I'll write a function named _explore_dataset()_ that I can use repeatedly to explore rows in a more readable way"
   ]
  },
  {
   "cell_type": "code",
   "execution_count": 3,
   "metadata": {},
   "outputs": [],
   "source": [
    "def explore_dataset(dataset, start, end=0):\n",
    "    if end == 0:\n",
    "        end = start + 1\n",
    "        \n",
    "    dataset_slice = dataset[start:end]\n",
    "\n",
    "    for row in dataset_slice:\n",
    "        print(row)"
   ]
  },
  {
   "cell_type": "markdown",
   "metadata": {},
   "source": [
    "Also, I will create another function named _dataset_size()_ that shows me the rows and columns length"
   ]
  },
  {
   "cell_type": "code",
   "execution_count": 4,
   "metadata": {},
   "outputs": [],
   "source": [
    "def dataset_size(dataset):\n",
    "    dataset_rows = len(dataset)\n",
    "    dataset_columns = len(dataset[0])\n",
    "\n",
    "    # print values\n",
    "    print('number of rows:', dataset_rows)\n",
    "    print('number of columns:', dataset_columns)\n",
    "    \n",
    "    # return tuple\n",
    "    data = (dataset_rows, dataset_columns)\n",
    "    return data"
   ]
  },
  {
   "cell_type": "code",
   "execution_count": 5,
   "metadata": {},
   "outputs": [
    {
     "name": "stdout",
     "output_type": "stream",
     "text": [
      "Android Dataset\n",
      "================\n",
      "\n",
      "\n",
      "['Photo Editor & Candy Camera & Grid & ScrapBook', 'ART_AND_DESIGN', '4.1', '159', '19M', '10,000+', 'Free', '0', 'Everyone', 'Art & Design', 'January 7, 2018', '1.0.0', '4.0.3 and up']\n",
      "['Coloring book moana', 'ART_AND_DESIGN', '3.9', '967', '14M', '500,000+', 'Free', '0', 'Everyone', 'Art & Design;Pretend Play', 'January 15, 2018', '2.0.0', '4.0.3 and up']\n",
      "\n",
      "\n",
      "number of rows: 10841\n",
      "number of columns: 13\n",
      "\n",
      "\n"
     ]
    }
   ],
   "source": [
    "print('Android Dataset')\n",
    "print('================')\n",
    "print('\\n')\n",
    "\n",
    "explore_dataset(android_apps, 0, 2)\n",
    "print('\\n')\n",
    "dataset_size(android_apps)\n",
    "print('\\n')"
   ]
  },
  {
   "cell_type": "code",
   "execution_count": 6,
   "metadata": {},
   "outputs": [
    {
     "name": "stdout",
     "output_type": "stream",
     "text": [
      "IOS Dataset\n",
      "===========\n",
      "\n",
      "\n",
      "['284882215', 'Facebook', '389879808', 'USD', '0.0', '2974676', '212', '3.5', '3.5', '95.0', '4+', 'Social Networking', '37', '1', '29', '1']\n",
      "['389801252', 'Instagram', '113954816', 'USD', '0.0', '2161558', '1289', '4.5', '4.0', '10.23', '12+', 'Photo & Video', '37', '0', '29', '1']\n",
      "\n",
      "\n",
      "number of rows: 7197\n",
      "number of columns: 16\n",
      "\n",
      "\n"
     ]
    }
   ],
   "source": [
    "print('IOS Dataset')\n",
    "print('===========')\n",
    "print('\\n')\n",
    "\n",
    "explore_dataset(ios_apps, 0, 2)\n",
    "print('\\n')\n",
    "dataset_size(ios_apps)\n",
    "print('\\n')"
   ]
  },
  {
   "cell_type": "markdown",
   "metadata": {},
   "source": [
    "### Results"
   ]
  },
  {
   "cell_type": "markdown",
   "metadata": {},
   "source": [
    "The data shows 10841 Android apps and 7197 iOS apps inside datasets"
   ]
  },
  {
   "cell_type": "markdown",
   "metadata": {},
   "source": [
    "## Cleaning Data"
   ]
  },
  {
   "cell_type": "markdown",
   "metadata": {},
   "source": [
    "### Removing rows with errors, missing or wrong data"
   ]
  },
  {
   "cell_type": "markdown",
   "metadata": {},
   "source": [
    "It is important to read [Android Dataset Documentation](https://www.kaggle.com/lava18/google-play-store-apps) and [App Store Documentation](https://www.kaggle.com/ramamet4/app-store-apple-data-set-10k-apps) to check information about the columns and an explanation of how data is collected and saved.  "
   ]
  },
  {
   "cell_type": "markdown",
   "metadata": {},
   "source": [
    "The Google Play dataset has a dedicated discussion section, and we can see that [one](https://www.kaggle.com/lava18/google-play-store-apps/discussion/66015) of the discussions outlines an error for row 10472. Print this row and compare it against the header and another row that is correct."
   ]
  },
  {
   "cell_type": "code",
   "execution_count": 7,
   "metadata": {},
   "outputs": [
    {
     "name": "stdout",
     "output_type": "stream",
     "text": [
      "Header of the Android dataset\n",
      "=====================\n",
      "['App', 'Category', 'Rating', 'Reviews', 'Size', 'Installs', 'Type', 'Price', 'Content Rating', 'Genres', 'Last Updated', 'Current Ver', 'Android Ver']\n",
      "\n",
      "\n",
      "Wrong row!\n",
      "==========\n",
      "['Life Made WI-Fi Touchscreen Photo Frame', '1.9', '19', '3.0M', '1,000+', 'Free', '0', 'Everyone', '', 'February 11, 2018', '1.0.19', '4.0 and up']\n",
      "\n",
      "\n",
      "Correct row\n",
      "============\n",
      "['Zumper - Apartment Rental Finder', 'HOUSE_AND_HOME', '4.4', '11200', '25M', '1,000,000+', 'Free', '0', 'Everyone', 'House & Home', 'July 16, 2018', '4.5.15', '5.0 and up']\n"
     ]
    }
   ],
   "source": [
    "print('Header of the Android dataset')\n",
    "print('=====================')\n",
    "print(android_apps_header)\n",
    "print('\\n')\n",
    "\n",
    "print('Wrong row!')\n",
    "print('==========')\n",
    "explore_dataset(android_apps, 10472)\n",
    "print('\\n')\n",
    "\n",
    "print('Correct row')\n",
    "print('============')\n",
    "explore_dataset(android_apps, 1500)"
   ]
  },
  {
   "cell_type": "markdown",
   "metadata": {},
   "source": [
    "The row **10472** corresponds to the app *Life Made WI-Fi Touchscreen Photo Frame*, and I can see that the rating is __19__. This is clearly off because the maximum rating for a Google Play app is 5. As a consequence, I'll delete this row."
   ]
  },
  {
   "cell_type": "code",
   "execution_count": 8,
   "metadata": {},
   "outputs": [
    {
     "name": "stdout",
     "output_type": "stream",
     "text": [
      "Before deleting:\n",
      "number of rows: 10841\n",
      "number of columns: 13\n",
      "\n",
      "\n",
      "After deleting:\n",
      "number of rows: 10840\n",
      "number of columns: 13\n"
     ]
    },
    {
     "data": {
      "text/plain": [
       "(10840, 13)"
      ]
     },
     "execution_count": 8,
     "metadata": {},
     "output_type": "execute_result"
    }
   ],
   "source": [
    "print('Before deleting:')\n",
    "dataset_size(android_apps)\n",
    "\n",
    "del android_apps[10472]  # don't run this more than once to del the row\n",
    "print('\\n')\n",
    "\n",
    "print('After deleting:')\n",
    "dataset_size(android_apps)"
   ]
  },
  {
   "cell_type": "markdown",
   "metadata": {},
   "source": [
    "### Isolating Free Apps"
   ]
  },
  {
   "cell_type": "markdown",
   "metadata": {},
   "source": [
    "The goal of the company is to create a _FREE APP_ that its main source of revenue consists of in-app ads. The datasets contain both free and non-free apps so I will remove non-free apps."
   ]
  },
  {
   "cell_type": "code",
   "execution_count": 9,
   "metadata": {},
   "outputs": [
    {
     "name": "stdout",
     "output_type": "stream",
     "text": [
      "Android Columns\n",
      "===============\n",
      "['App', 'Category', 'Rating', 'Reviews', 'Size', 'Installs', 'Type', 'Price', 'Content Rating', 'Genres', 'Last Updated', 'Current Ver', 'Android Ver']\n",
      "\n",
      "\n",
      "IOS Columns\n",
      "===============\n",
      "['id', 'track_name', 'size_bytes', 'currency', 'price', 'rating_count_tot', 'rating_count_ver', 'user_rating', 'user_rating_ver', 'ver', 'cont_rating', 'prime_genre', 'sup_devices.num', 'ipadSc_urls.num', 'lang.num', 'vpp_lic']\n",
      "\n",
      "\n"
     ]
    }
   ],
   "source": [
    "print('Android Columns')\n",
    "print('===============')\n",
    "print(android_apps_header)\n",
    "print('\\n')\n",
    "\n",
    "print('IOS Columns')\n",
    "print('===============')\n",
    "print(ios_apps_header)\n",
    "print('\\n')"
   ]
  },
  {
   "cell_type": "markdown",
   "metadata": {},
   "source": [
    "On __Android__ the column 8 has the price. In the __IOS__ apps, the column that has the price is the column number 5. I will make a function that returns the dataset without non-free apps."
   ]
  },
  {
   "cell_type": "code",
   "execution_count": 10,
   "metadata": {},
   "outputs": [],
   "source": [
    "import re\n",
    "def remove_non_free(dataset, price_column):\n",
    "    only_free = []\n",
    "    for row in dataset:\n",
    "        price = re.findall(r'\\d+', row[price_column])[0]\n",
    "        if price == '0':\n",
    "            only_free.append(row)\n",
    "    return only_free"
   ]
  },
  {
   "cell_type": "markdown",
   "metadata": {},
   "source": [
    "Now I have to create new datasets"
   ]
  },
  {
   "cell_type": "code",
   "execution_count": 11,
   "metadata": {},
   "outputs": [],
   "source": [
    "free_android_apps = remove_non_free(android_apps, price_column=7)\n",
    "free_ios_apps = remove_non_free(ios_apps, price_column=4)"
   ]
  },
  {
   "cell_type": "markdown",
   "metadata": {},
   "source": [
    "Check both lists to see the difference"
   ]
  },
  {
   "cell_type": "code",
   "execution_count": 18,
   "metadata": {},
   "outputs": [
    {
     "name": "stdout",
     "output_type": "stream",
     "text": [
      "previous apps dataset\n",
      "=====================\n",
      "Android\n",
      "number of rows: 10840\n",
      "number of columns: 13\n",
      "IOS\n",
      "number of rows: 7197\n",
      "number of columns: 16\n",
      "\n",
      "\n",
      "free apps dataset\n",
      "=====================\n",
      "Android\n",
      "number of rows: 10188\n",
      "number of columns: 13\n",
      "IOS\n",
      "number of rows: 4784\n",
      "number of columns: 16\n",
      "\n",
      "\n"
     ]
    }
   ],
   "source": [
    "print('previous apps dataset')\n",
    "print('=====================')\n",
    "print('Android')\n",
    "android_apps_rows, _ = dataset_size(android_apps)\n",
    "print('IOS')\n",
    "ios_apps_rows, _ = dataset_size(ios_apps)\n",
    "print('\\n')\n",
    "\n",
    "print('free apps dataset')\n",
    "print('=====================')\n",
    "print('Android')\n",
    "free_android_apps_rows, _ = dataset_size(free_android_apps)\n",
    "print('IOS')\n",
    "free_ios_apps_rows, _ = dataset_size(free_ios_apps)\n",
    "print('\\n')"
   ]
  },
  {
   "cell_type": "code",
   "execution_count": 19,
   "metadata": {},
   "outputs": [
    {
     "name": "stdout",
     "output_type": "stream",
     "text": [
      "In case of Android apps, 93.98523985239852% of them are free!\n",
      "In case of IOS apps, 66.47214116993192% of them are free!\n"
     ]
    }
   ],
   "source": [
    "# get percentage that represents a part from a total\n",
    "def percentage(part, total):\n",
    "  return 100 * float(part)/float(total)\n",
    "\n",
    "perc_android_apps = percentage(free_android_apps_rows, android_apps_rows)\n",
    "perc_ios_apps = percentage(free_ios_apps_rows, ios_apps_rows)\n",
    "\n",
    "print('In case of Android apps, {}% of them are free!'.format(perc_android_apps))\n",
    "print('In case of IOS apps, {}% of them are free!'.format(perc_ios_apps))"
   ]
  },
  {
   "cell_type": "markdown",
   "metadata": {},
   "source": [
    "#### `Conclusion: I deduce by data analysis that Android platform has more percentage of free apps than IOS`"
   ]
  },
  {
   "cell_type": "markdown",
   "metadata": {},
   "source": [
    "### Removing duplicated entries"
   ]
  },
  {
   "cell_type": "markdown",
   "metadata": {},
   "source": [
    "I won't count each app more than once when I analyze data to help developers understand what kinds of apps are likely to attract more users."
   ]
  },
  {
   "cell_type": "markdown",
   "metadata": {},
   "source": [
    "#### Part 1: Check if there is duplicated entries"
   ]
  },
  {
   "cell_type": "markdown",
   "metadata": {},
   "source": [
    "I will check first if there is any column that helps me quickly see if there are duplicated entries."
   ]
  },
  {
   "cell_type": "code",
   "execution_count": 24,
   "metadata": {},
   "outputs": [
    {
     "name": "stdout",
     "output_type": "stream",
     "text": [
      "Android Columns\n",
      "===============\n",
      "['App', 'Category', 'Rating', 'Reviews', 'Size', 'Installs', 'Type', 'Price', 'Content Rating', 'Genres', 'Last Updated', 'Current Ver', 'Android Ver']\n",
      "\n",
      "\n",
      "IOS Columns\n",
      "===========\n",
      "['id', 'track_name', 'size_bytes', 'currency', 'price', 'rating_count_tot', 'rating_count_ver', 'user_rating', 'user_rating_ver', 'ver', 'cont_rating', 'prime_genre', 'sup_devices.num', 'ipadSc_urls.num', 'lang.num', 'vpp_lic']\n"
     ]
    }
   ],
   "source": [
    "print('Android Columns')\n",
    "print('===============')\n",
    "print(android_apps_header)\n",
    "print('\\n')\n",
    "print('IOS Columns')\n",
    "print('===========')\n",
    "print(ios_apps_header)"
   ]
  },
  {
   "cell_type": "markdown",
   "metadata": {},
   "source": [
    "In case of __Android__ I can use the _App_ column"
   ]
  },
  {
   "cell_type": "code",
   "execution_count": 27,
   "metadata": {},
   "outputs": [
    {
     "name": "stdout",
     "output_type": "stream",
     "text": [
      "repeated rows: 1138\n"
     ]
    }
   ],
   "source": [
    "repeated_rows = 0\n",
    "rows_dic = []\n",
    "\n",
    "for app in free_android_apps:\n",
    "    app_name = app[0] # this is App column\n",
    "    if app_name in rows_dic:\n",
    "        repeated_rows += 1\n",
    "    else:\n",
    "        rows_dic.append(app_name)\n",
    "\n",
    "print('repeated rows in android apps: {}'.format(repeated_rows))"
   ]
  },
  {
   "cell_type": "markdown",
   "metadata": {},
   "source": [
    "Now, I will check on IOS apps using the _id_ column"
   ]
  },
  {
   "cell_type": "code",
   "execution_count": 30,
   "metadata": {},
   "outputs": [
    {
     "name": "stdout",
     "output_type": "stream",
     "text": [
      "repeated rows in ios apps: 0\n"
     ]
    }
   ],
   "source": [
    "repeated_rows = 0\n",
    "rows_dic = []\n",
    "\n",
    "for app in free_ios_apps:\n",
    "    app_name = app[0] # this is id column\n",
    "    if app_name in rows_dic:\n",
    "        repeated_rows += 1\n",
    "    else:\n",
    "        rows_dic.append(app_name)\n",
    "\n",
    "print('repeated rows in ios apps: {}'.format(repeated_rows))"
   ]
  },
  {
   "cell_type": "markdown",
   "metadata": {},
   "source": [
    "#### `Conclusion: I only have to remove rows from Android apps`"
   ]
  },
  {
   "cell_type": "markdown",
   "metadata": {},
   "source": [
    "#### Part 2: Remove duplicated entries from Android Apps"
   ]
  },
  {
   "cell_type": "markdown",
   "metadata": {},
   "source": [
    "To create a unique list of apps from Android list I will take into account the _name_ column and the _last updated_ column. The purpose of this is to create a new list of unique apps where I can find which of those are more attractive to the users. _Last updated_ column is important because I will take more into account those apps that have recently updated. "
   ]
  },
  {
   "cell_type": "code",
   "execution_count": 38,
   "metadata": {},
   "outputs": [
    {
     "ename": "ValueError",
     "evalue": "time data 'January 7, 2018' does not match format '%d %b %Y'",
     "output_type": "error",
     "traceback": [
      "\u001b[0;31m---------------------------------------------------------------------------\u001b[0m",
      "\u001b[0;31mValueError\u001b[0m                                Traceback (most recent call last)",
      "\u001b[0;32m<ipython-input-38-491b0af17f51>\u001b[0m in \u001b[0;36m<module>\u001b[0;34m\u001b[0m\n\u001b[1;32m      5\u001b[0m \u001b[0;31m# remove duplicated entries from Android\u001b[0m\u001b[0;34m\u001b[0m\u001b[0;34m\u001b[0m\u001b[0;34m\u001b[0m\u001b[0m\n\u001b[1;32m      6\u001b[0m \u001b[0;31m# first, sort Android apps by date\u001b[0m\u001b[0;34m\u001b[0m\u001b[0;34m\u001b[0m\u001b[0;34m\u001b[0m\u001b[0m\n\u001b[0;32m----> 7\u001b[0;31m \u001b[0mfree_android_apps\u001b[0m\u001b[0;34m.\u001b[0m\u001b[0msort\u001b[0m\u001b[0;34m(\u001b[0m\u001b[0mkey\u001b[0m \u001b[0;34m=\u001b[0m \u001b[0;32mlambda\u001b[0m \u001b[0md\u001b[0m\u001b[0;34m:\u001b[0m \u001b[0mdatetime\u001b[0m\u001b[0;34m.\u001b[0m\u001b[0mstrptime\u001b[0m\u001b[0;34m(\u001b[0m\u001b[0md\u001b[0m\u001b[0;34m[\u001b[0m\u001b[0;36m10\u001b[0m\u001b[0;34m]\u001b[0m\u001b[0;34m,\u001b[0m \u001b[0;34m'%d %b %Y'\u001b[0m\u001b[0;34m)\u001b[0m\u001b[0;34m)\u001b[0m\u001b[0;34m\u001b[0m\u001b[0;34m\u001b[0m\u001b[0m\n\u001b[0m\u001b[1;32m      8\u001b[0m \u001b[0;34m\u001b[0m\u001b[0m\n\u001b[1;32m      9\u001b[0m \u001b[0;31m# create a dictionary\u001b[0m\u001b[0;34m\u001b[0m\u001b[0;34m\u001b[0m\u001b[0;34m\u001b[0m\u001b[0m\n",
      "\u001b[0;32m<ipython-input-38-491b0af17f51>\u001b[0m in \u001b[0;36m<lambda>\u001b[0;34m(d)\u001b[0m\n\u001b[1;32m      5\u001b[0m \u001b[0;31m# remove duplicated entries from Android\u001b[0m\u001b[0;34m\u001b[0m\u001b[0;34m\u001b[0m\u001b[0;34m\u001b[0m\u001b[0m\n\u001b[1;32m      6\u001b[0m \u001b[0;31m# first, sort Android apps by date\u001b[0m\u001b[0;34m\u001b[0m\u001b[0;34m\u001b[0m\u001b[0;34m\u001b[0m\u001b[0m\n\u001b[0;32m----> 7\u001b[0;31m \u001b[0mfree_android_apps\u001b[0m\u001b[0;34m.\u001b[0m\u001b[0msort\u001b[0m\u001b[0;34m(\u001b[0m\u001b[0mkey\u001b[0m \u001b[0;34m=\u001b[0m \u001b[0;32mlambda\u001b[0m \u001b[0md\u001b[0m\u001b[0;34m:\u001b[0m \u001b[0mdatetime\u001b[0m\u001b[0;34m.\u001b[0m\u001b[0mstrptime\u001b[0m\u001b[0;34m(\u001b[0m\u001b[0md\u001b[0m\u001b[0;34m[\u001b[0m\u001b[0;36m10\u001b[0m\u001b[0;34m]\u001b[0m\u001b[0;34m,\u001b[0m \u001b[0;34m'%d %b %Y'\u001b[0m\u001b[0;34m)\u001b[0m\u001b[0;34m)\u001b[0m\u001b[0;34m\u001b[0m\u001b[0;34m\u001b[0m\u001b[0m\n\u001b[0m\u001b[1;32m      8\u001b[0m \u001b[0;34m\u001b[0m\u001b[0m\n\u001b[1;32m      9\u001b[0m \u001b[0;31m# create a dictionary\u001b[0m\u001b[0;34m\u001b[0m\u001b[0;34m\u001b[0m\u001b[0;34m\u001b[0m\u001b[0m\n",
      "\u001b[0;32m/anaconda3/envs/jupyter_env/lib/python3.8/_strptime.py\u001b[0m in \u001b[0;36m_strptime_datetime\u001b[0;34m(cls, data_string, format)\u001b[0m\n\u001b[1;32m    566\u001b[0m     \"\"\"Return a class cls instance based on the input string and the\n\u001b[1;32m    567\u001b[0m     format string.\"\"\"\n\u001b[0;32m--> 568\u001b[0;31m     \u001b[0mtt\u001b[0m\u001b[0;34m,\u001b[0m \u001b[0mfraction\u001b[0m\u001b[0;34m,\u001b[0m \u001b[0mgmtoff_fraction\u001b[0m \u001b[0;34m=\u001b[0m \u001b[0m_strptime\u001b[0m\u001b[0;34m(\u001b[0m\u001b[0mdata_string\u001b[0m\u001b[0;34m,\u001b[0m \u001b[0mformat\u001b[0m\u001b[0;34m)\u001b[0m\u001b[0;34m\u001b[0m\u001b[0;34m\u001b[0m\u001b[0m\n\u001b[0m\u001b[1;32m    569\u001b[0m     \u001b[0mtzname\u001b[0m\u001b[0;34m,\u001b[0m \u001b[0mgmtoff\u001b[0m \u001b[0;34m=\u001b[0m \u001b[0mtt\u001b[0m\u001b[0;34m[\u001b[0m\u001b[0;34m-\u001b[0m\u001b[0;36m2\u001b[0m\u001b[0;34m:\u001b[0m\u001b[0;34m]\u001b[0m\u001b[0;34m\u001b[0m\u001b[0;34m\u001b[0m\u001b[0m\n\u001b[1;32m    570\u001b[0m     \u001b[0margs\u001b[0m \u001b[0;34m=\u001b[0m \u001b[0mtt\u001b[0m\u001b[0;34m[\u001b[0m\u001b[0;34m:\u001b[0m\u001b[0;36m6\u001b[0m\u001b[0;34m]\u001b[0m \u001b[0;34m+\u001b[0m \u001b[0;34m(\u001b[0m\u001b[0mfraction\u001b[0m\u001b[0;34m,\u001b[0m\u001b[0;34m)\u001b[0m\u001b[0;34m\u001b[0m\u001b[0;34m\u001b[0m\u001b[0m\n",
      "\u001b[0;32m/anaconda3/envs/jupyter_env/lib/python3.8/_strptime.py\u001b[0m in \u001b[0;36m_strptime\u001b[0;34m(data_string, format)\u001b[0m\n\u001b[1;32m    347\u001b[0m     \u001b[0mfound\u001b[0m \u001b[0;34m=\u001b[0m \u001b[0mformat_regex\u001b[0m\u001b[0;34m.\u001b[0m\u001b[0mmatch\u001b[0m\u001b[0;34m(\u001b[0m\u001b[0mdata_string\u001b[0m\u001b[0;34m)\u001b[0m\u001b[0;34m\u001b[0m\u001b[0;34m\u001b[0m\u001b[0m\n\u001b[1;32m    348\u001b[0m     \u001b[0;32mif\u001b[0m \u001b[0;32mnot\u001b[0m \u001b[0mfound\u001b[0m\u001b[0;34m:\u001b[0m\u001b[0;34m\u001b[0m\u001b[0;34m\u001b[0m\u001b[0m\n\u001b[0;32m--> 349\u001b[0;31m         raise ValueError(\"time data %r does not match format %r\" %\n\u001b[0m\u001b[1;32m    350\u001b[0m                          (data_string, format))\n\u001b[1;32m    351\u001b[0m     \u001b[0;32mif\u001b[0m \u001b[0mlen\u001b[0m\u001b[0;34m(\u001b[0m\u001b[0mdata_string\u001b[0m\u001b[0;34m)\u001b[0m \u001b[0;34m!=\u001b[0m \u001b[0mfound\u001b[0m\u001b[0;34m.\u001b[0m\u001b[0mend\u001b[0m\u001b[0;34m(\u001b[0m\u001b[0;34m)\u001b[0m\u001b[0;34m:\u001b[0m\u001b[0;34m\u001b[0m\u001b[0;34m\u001b[0m\u001b[0m\n",
      "\u001b[0;31mValueError\u001b[0m: time data 'January 7, 2018' does not match format '%d %b %Y'"
     ]
    }
   ],
   "source": [
    "from datetime import datetime\n",
    "\n",
    "free_ios_unique_apps = free_ios_apps #IOS does not have duplicated entries\n",
    "\n",
    "# remove duplicated entries from Android\n",
    "# first, sort Android apps by date\n",
    "free_android_apps.sort(key = lambda x: datetime.strptime(x[10], '%d %b %Y'))\n",
    "\n",
    "# create a dictionary\n",
    "unique_apps_dic = []\n",
    "free_android_unique_apps = []\n",
    "\n",
    "# add unique apps to a list\n",
    "for index, app in enumerate(free_android_apps):\n",
    "    name = app[0] # app name column\n",
    "    last_updated = app[10] # last updated column\n",
    "    if name not in unique_apps_dic:\n",
    "        unique_apps_dic.append(name)\n",
    "        free_android_unique_apps.append(app)\n"
   ]
  },
  {
   "cell_type": "code",
   "execution_count": null,
   "metadata": {},
   "outputs": [],
   "source": []
  }
 ],
 "metadata": {
  "kernelspec": {
   "display_name": "Python 3",
   "language": "python",
   "name": "python3"
  },
  "language_info": {
   "codemirror_mode": {
    "name": "ipython",
    "version": 3
   },
   "file_extension": ".py",
   "mimetype": "text/x-python",
   "name": "python",
   "nbconvert_exporter": "python",
   "pygments_lexer": "ipython3",
   "version": "3.8.1"
  }
 },
 "nbformat": 4,
 "nbformat_minor": 4
}
